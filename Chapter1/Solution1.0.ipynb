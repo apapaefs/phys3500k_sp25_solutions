{
 "cells": [
  {
   "cell_type": "markdown",
   "id": "6f192e6e-8cd3-4fbe-aa40-7dc25643e3b3",
   "metadata": {
    "jp-MarkdownHeadingCollapsed": true
   },
   "source": [
    "# Exercise 1.0: Warmup Exercise, Calculate the Area of a Circle\n",
    "\n",
    "Write a Python code that calculates the area of a circle of radius R, where R is provided as input by the user. \n",
    "\n",
    "Use matplotlib to draw a circle of radius $R$ using the parametric equation for a circle: $x = R \\cos \\theta$, $y = R\\sin \\theta$"
   ]
  },
  {
   "cell_type": "markdown",
   "id": "2905875f-adc7-4b03-b666-e0263e534970",
   "metadata": {},
   "source": [
    "# Solution to Exercise 1.0:\n",
    "\n",
    "We will use the formula $A = \\pi R^2$ for the area of the circle. To calculate this numerically, we will use the ```input``` function and convert it into a float by using the ```float()``` command. \n",
    "\n",
    "We also need the value of the constant $\\pi$, which we can call from Python's math module. "
   ]
  },
  {
   "cell_type": "code",
   "execution_count": null,
   "id": "6211a619-befb-4030-81c0-5e7165008d57",
   "metadata": {},
   "outputs": [],
   "source": [
    "# Solution to exercise 0:\n",
    "\n",
    "# import pi from math:\n",
    "from math import pi\n",
    "R = float(input(\"Please enter the radius of the circle\"))\n",
    "Area = pi * R**2\n",
    "print(\"The area of the circle is\", Area)\n"
   ]
  },
  {
   "cell_type": "markdown",
   "id": "8313e8bc-00f1-4087-ba57-75b05dbc3ea9",
   "metadata": {},
   "source": [
    "We can now draw the circle of raidus $R$ by using matplotlib and NumPy. We will first create a NumPy array for $\\theta$ (the only variable that changes around the circle) and then calculate the the x and y NumPy arrays that result from it. We can then simply plot x and y using the matplotlib .plot function. \n",
    "`\n",
    "Note that the aspect ratio also needs to be changed, we will do this using the command ```ax.set_aspect(1)```. "
   ]
  },
  {
   "cell_type": "code",
   "execution_count": null,
   "id": "979825b1-ad8a-4702-95b7-2ac8893d2221",
   "metadata": {},
   "outputs": [],
   "source": [
    "import numpy as np # import the NumPy library\n",
    "import matplotlib.pyplot as plt \n",
    "\n",
    "# first distribute theta in its range of allowed values: \n",
    "theta = np.linspace( 0 , 2 * np.pi , 100 ) # create a NumPy array in [0,2*pi], with 100 equally-spaced points\n",
    "\n",
    "# now we can use numpy to define the x and y arrays\n",
    "x = R * np.cos(theta)\n",
    "y = R * np.sin(theta)\n",
    " \n",
    "fig, ax = plt.subplots() # create the elements required for matplotlib. This creates a figure containing a single set of axes.\n",
    " \n",
    "ax.plot(x,y)\n",
    "\n",
    "# set the x and y limits:\n",
    "ax.set_xlim(-2*R,2*R)\n",
    "ax.set_ylim(-2*R,2*R)\n",
    "\n",
    "# set the aspect ratio of the x and y axes to 1 to actually visualize the circle. \n",
    "ax.set_aspect(1)\n",
    " \n",
    "plt.title('A Circle of radius R=' + str(R)) # you can convert the \"float\" R to a string and add it to the title!\n",
    "plt.show()"
   ]
  },
  {
   "cell_type": "code",
   "execution_count": null,
   "id": "f9500a05-e705-4ccc-937a-e9bea76bdb07",
   "metadata": {},
   "outputs": [],
   "source": []
  },
  {
   "cell_type": "code",
   "execution_count": null,
   "id": "b5a825d7-2d9b-4c72-ac8c-1124735fcd8d",
   "metadata": {},
   "outputs": [],
   "source": []
  },
  {
   "cell_type": "code",
   "execution_count": null,
   "id": "199cd11e-3c36-4bee-89f1-55764e6c200c",
   "metadata": {},
   "outputs": [],
   "source": []
  }
 ],
 "metadata": {
  "kernelspec": {
   "display_name": "Python 3 (ipykernel)",
   "language": "python",
   "name": "python3"
  },
  "language_info": {
   "codemirror_mode": {
    "name": "ipython",
    "version": 3
   },
   "file_extension": ".py",
   "mimetype": "text/x-python",
   "name": "python",
   "nbconvert_exporter": "python",
   "pygments_lexer": "ipython3",
   "version": "3.12.7"
  }
 },
 "nbformat": 4,
 "nbformat_minor": 5
}
