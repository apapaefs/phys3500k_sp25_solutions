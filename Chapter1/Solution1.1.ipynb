{
 "cells": [
  {
   "cell_type": "markdown",
   "id": "37f392a2-cee7-4425-965c-29895f5deec4",
   "metadata": {
    "jp-MarkdownHeadingCollapsed": true
   },
   "source": [
    "# Exercise 1.1: Pell and rational approximations to the square root of 2.\n",
    "\n",
    "(a) Write a *recursive* function that returns the first ```n``` Pell numbers, defined by the recurrence relation:\n",
    "$$\n",
    "P_n=\n",
    "\\begin{cases}\n",
    "0& \\quad \\text{if $n=0$;}\\\\ \n",
    "1& \\quad \\text{if $n=1$;}\\\\ \n",
    "2 P_{n-1} + P_{n-2} & \\quad \\text{otherwise.}\n",
    "\\end{cases}\n",
    "$$\n",
    "(b) Pell numbers arise in the rational approximation to $\\sqrt{2}$. If two large integers $x$ and $y$ form a solution to the Pell equation:\n",
    "\n",
    "$x^2 - 2 y^2 = \\pm 1$\n",
    "\n",
    "then their ratio $x/y$ provides a close approximatio to $\\sqrt{2}$. The sequence of approximations of this form is:$\\frac{1}{1}, \\frac{3}{2}, \\frac{7}{5}, \\frac{17}{12}, \\frac{41}{29}, \\frac{99}{70}, ...$, where the denominator of each fraction is a Pell number, and the numberator is the sum of a Pell number and its predecessor in the sequence. That is, the solutions have the form:\n",
    "\n",
    "$\\frac{P_{n-1} + P_{n}}{P_n}$.\n",
    "\n",
    "Using your function from part (a), write a function that generates the first m terms in the sequence of approximations to $\\sqrt{2}$. \n",
    "\n",
    "(c) Use the function to calculate the first 20 terms. \n",
    "\n",
    "**10% Bonus:**\n",
    "\n",
    "(d) Compare the 20th approximation with the value you obtain from Python's ```math.sqrt(2)```, *by calculating the fractional error*. \n",
    "\n",
    "[For more details, see relevant Wikipedia entry: https://en.wikipedia.org/wiki/Pell_number]"
   ]
  },
  {
   "cell_type": "markdown",
   "id": "529553fc-4c32-43a9-92ca-e38dafc44ffe",
   "metadata": {},
   "source": [
    "# Solution to Exercise 1.1:\n",
    "\n",
    "We can modify the Fibonacci series function discussed in the Chapter1 jupyter notebook. Using this function, we then construct another function that can calculate the approximation according to the formula given in the problem: $\\sqrt{2} \\approx \\frac{P_{n-1} + P_{n}}{P_n}$. Note that the problem asks for the first $m$ terms, not the terms up to a certain number, so we need to be careful when implementing this. "
   ]
  },
  {
   "cell_type": "markdown",
   "id": "f5197b47-59d1-45f0-8dde-a4de7c704cd8",
   "metadata": {},
   "source": [
    "part (a):"
   ]
  },
  {
   "cell_type": "code",
   "execution_count": 1,
   "id": "0ebc9d54-05e6-4f06-b153-2d23816aad84",
   "metadata": {},
   "outputs": [],
   "source": [
    "def Pell(n):  # return the first n terms in the Pell series \n",
    "    \"\"\"Return a list containing the Pell series up to n.\"\"\"\n",
    "    result = []\n",
    "    a, b = 0, 1\n",
    "    for i in range(n):\n",
    "        result.append(a)    # see below\n",
    "        a, b = b, a+2*b\n",
    "    return result"
   ]
  },
  {
   "cell_type": "code",
   "execution_count": 2,
   "id": "547d096c-37d7-4c17-8119-d4f9e78fc7bc",
   "metadata": {},
   "outputs": [
    {
     "data": {
      "text/plain": [
       "[0, 1, 2, 5, 12, 29, 70, 169, 408, 985]"
      ]
     },
     "execution_count": 2,
     "metadata": {},
     "output_type": "execute_result"
    }
   ],
   "source": [
    "Pell(10)"
   ]
  },
  {
   "cell_type": "markdown",
   "id": "afa14da1-760d-45bc-8058-04a471567ed8",
   "metadata": {},
   "source": [
    "part (b):"
   ]
  },
  {
   "cell_type": "code",
   "execution_count": 3,
   "id": "8453aa95-4d0a-4367-b5eb-05145600874c",
   "metadata": {},
   "outputs": [],
   "source": [
    "def PellApproxSqrt2(n): # return the first n rational approximations to the square root of 2 using the Pell series\n",
    "    \"\"\"Return a list containing the first n rational approximations to the square root of 2 using the Pell series\"\"\"\n",
    "    # first get the first n terms in the Pell series. \n",
    "    Pell_n = Pell(n+1) # we need the n+1 terms in the series to get the first n approximations!\n",
    "    Approximations = [] #  create empty list for the appriximations\n",
    "    for i in range(len(Pell_n)-1): # be careful with the indices! \n",
    "        Approximations.append((Pell_n[i] + Pell_n[i+1])/Pell_n[i+1])\n",
    "    return Approximations"
   ]
  },
  {
   "cell_type": "markdown",
   "id": "2b0d0eb8-2a72-4850-8817-25f7536c3721",
   "metadata": {},
   "source": [
    "part (c): "
   ]
  },
  {
   "cell_type": "code",
   "execution_count": 4,
   "id": "788328a2-7d30-4d44-aa81-66c0d6fc469b",
   "metadata": {},
   "outputs": [
    {
     "data": {
      "text/plain": [
       "20"
      ]
     },
     "execution_count": 4,
     "metadata": {},
     "output_type": "execute_result"
    }
   ],
   "source": [
    "# use the function to calculate the first 20 approximations to sqrt(2) \n",
    "ASqrt2 = PellApproxSqrt2(20)\n",
    "len(ASqrt2)"
   ]
  },
  {
   "cell_type": "code",
   "execution_count": 5,
   "id": "5dd5c102-b0d2-4675-8397-78b78df9174c",
   "metadata": {},
   "outputs": [
    {
     "name": "stdout",
     "output_type": "stream",
     "text": [
      "[1.0, 1.5, 1.4, 1.4166666666666667, 1.4137931034482758, 1.4142857142857144, 1.4142011834319526, 1.4142156862745099, 1.4142131979695431, 1.4142136248948696, 1.4142135516460548, 1.4142135642135643, 1.4142135620573204, 1.4142135624272734, 1.4142135623637995, 1.4142135623746899, 1.4142135623728214, 1.414213562373142, 1.414213562373087, 1.4142135623730965]\n"
     ]
    }
   ],
   "source": [
    "# print the output\n",
    "print(ASqrt2)"
   ]
  },
  {
   "cell_type": "markdown",
   "id": "17af7564-7da6-49b9-9624-bd752a064b84",
   "metadata": {},
   "source": [
    "part (d):"
   ]
  },
  {
   "cell_type": "code",
   "execution_count": 6,
   "id": "2c27865e-2ee9-44dc-8d4c-1aa638652029",
   "metadata": {
    "scrolled": true
   },
   "outputs": [
    {
     "name": "stdout",
     "output_type": "stream",
     "text": [
      "9.42055475210265e-16\n"
     ]
    }
   ],
   "source": [
    "# compare the 20th approximation to math.sqrt(2):\n",
    "import math\n",
    "\n",
    "# fractional error: \n",
    "frac_error = abs(ASqrt2[19] - math.sqrt(2))/math.sqrt(2)\n",
    "print(frac_error)"
   ]
  },
  {
   "cell_type": "code",
   "execution_count": null,
   "id": "48f3812a-3642-4f39-ac33-fba1272855aa",
   "metadata": {},
   "outputs": [],
   "source": []
  }
 ],
 "metadata": {
  "kernelspec": {
   "display_name": "Python 3 (ipykernel)",
   "language": "python",
   "name": "python3"
  },
  "language_info": {
   "codemirror_mode": {
    "name": "ipython",
    "version": 3
   },
   "file_extension": ".py",
   "mimetype": "text/x-python",
   "name": "python",
   "nbconvert_exporter": "python",
   "pygments_lexer": "ipython3",
   "version": "3.11.7"
  }
 },
 "nbformat": 4,
 "nbformat_minor": 5
}
