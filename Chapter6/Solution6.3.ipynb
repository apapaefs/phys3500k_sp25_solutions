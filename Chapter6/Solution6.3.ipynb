{
 "cells": [
  {
   "cell_type": "markdown",
   "id": "2df41439-e7ab-4458-8d38-021907cf1e31",
   "metadata": {},
   "source": [
    "# Exercise 6.3: Nonlinear fitting of the resonant scattering of neutron from a nucleus. \n",
    "\n",
    "Perform a $\\chi^2$ fit of the neutron scattering data using the equations obtained through the minimization of $\\chi^2$. Assume that the absolute error ($\\sigma_i$) is equal for all data points and find a reasonable estimate for its magnitude. \n",
    "\n",
    "Use the following data:\n",
    "\n",
    "| Energy (MeV) | Cross Section (mb)| \n",
    "| ------------ | ----------------- |\n",
    "| 0 | 10.6 | \n",
    "| 25 | 16.0 | \n",
    "| 50 | 45.0 |\n",
    "| 75 | 83.5 | \n",
    "| 100 | 52.8 | \n",
    "| 125 | 19.9 | \n",
    "| 150 | 10.8 | \n",
    "| 175 | 8.25 | \n",
    "| 200 | 4.7 | \n",
    "\n",
    "and the theoretical function $f(E) = \\frac{ f_r } { (E-E_r)^2 + \\Gamma^2/4 }$.\n",
    "\n",
    "For initial guesses, look at the plot and consider that: \n",
    "\n",
    "At the peak, $f = a_1 / a_3$, $a_3 = \\Gamma_2^2 / 4$, where $\\Gamma$ is the full-width of the peak at half-maximum and $x = a_2$ is the position of the peak.\n",
    "\n",
    "BONUS 10%: Use SciPy's ```optimize.curve_fit``` to do the fit. Compare SciPy's results to the ones you obtained. See https://docs.scipy.org/doc/scipy/reference/generated/scipy.optimize.curve_fit.html"
   ]
  },
  {
   "cell_type": "markdown",
   "id": "de1f4c60-da46-402c-9675-cb08b8dd0781",
   "metadata": {},
   "source": [
    "Solution:\n",
    "\n",
    "Let's first write down the data. We will then need to construct the functions. \n",
    "\n",
    "The necessary derivatives have already been given to us, so it's only a matter of looping over the data.\n",
    "\n",
    "The $N_P$ equations:\n",
    "\n",
    "$\\sum_{i=1}^{N_D} \\frac{ [y_i - g(x_i; \\{a_n\\})] } { \\sigma_i^2 } \\frac{ \\partial g(x_i; \\{a_n\\}) }{ \\partial a_m }  = 0$, $m=1,...,N_P$. \n",
    "\n",
    "For the sake of simplicity, let's rewrite the theory function using the redefinitions:\n",
    "\n",
    "$f_r \\rightarrow a_1$, $E_r \\rightarrow a_2$, $\\Gamma^2/4 \\rightarrow a_3$, $E\\rightarrow x$ such that:\n",
    "\n",
    "$g(x; a_1, a_2, a_3) = \\frac{ a_1 } { (x-a_2)^2 + a_3 }$.\n",
    "\n",
    "The derivatives required are then:\n",
    "\n",
    "$\\frac{ \\partial g } { \\partial a_1 } = \\frac{ 1 } { (x-a_2)^2 + a_3 }$, $\\frac{ \\partial g } { \\partial a_2 } = \\frac{ -2 a_1 (x - a_2) }{[ (x-a_2)^2 + a_3]}$, $\\frac{ \\partial g } { \\partial a_3 } =  \\frac{ -a_1 } { [ (x-a_2)^2 + a_3]^2}$. "
   ]
  },
  {
   "cell_type": "code",
   "execution_count": 2,
   "id": "7968dfb7-140b-4c44-82c8-4e69a1c8558e",
   "metadata": {},
   "outputs": [],
   "source": [
    "# Copying over the necessary functions from our N-Dimensional Newton-Raphson method:\n",
    "import numpy as np\n",
    "from numpy import linalg \n",
    "\n",
    "# modify from Chapter 4: \n",
    "# define a function for the central-difference derivative.\n",
    "# x is now a NumPy array\n",
    "# i is the component of the function (f_i) to be differentiated\n",
    "# j is the component of the vector x to differentiate by (x_j)\n",
    "def dfdt_CD_ND(func, i, j, x, h): \n",
    "    \"\"\"Calculates the central-difference partial derivative of a function func at vector x, in the j-th direction, with step size dx\"\"\"\n",
    "    N = len(x) # get the length of the input array\n",
    "    # increement only the j-th element by an amount dx\n",
    "    dx = np.zeros(N) \n",
    "    dx[j] = h \n",
    "    return (np.array(func(x+dx/2)[i]) - np.array(func(x-dx/2)[i]))/h\n",
    "\n",
    "# A higher-order function that calculates the Jacobian matrix for the N-dimensional vector of functions f_i:\n",
    "# we will use a central-difference approximation to the derivatives, and a parameter h = 1E-5 for all directions \n",
    "def Jacobian(funcvector, x, h): # the input should be a NumPy array of functions, each of which is a function of N variables (x_i)\n",
    "    \"\"\"Calculate the Jacobian of the function vector as an NxN matrix using the central-difference approximation to the derivatives\"\"\"\n",
    "    N = len(funcvector(x)) # get the number of dimensions\n",
    "    output = np.zeros((N,N)) #  the output is an NxN NumPy array\n",
    "    for i in range(N): # loop over the functions f_i\n",
    "        for j in range(N): # loop over variables x_j:\n",
    "            dfi_dxj = dfdt_CD_ND(funcvector, i,j,x,h)\n",
    "            output[i][j] = dfi_dxj # set this to the correct element of the Jacobian   \n",
    "    return output \n",
    "\n",
    "# The N-D Newton-Raphson algorithm: \n",
    "# x0 is the initial guess, it should have the same dimensions as the number of variables! \n",
    "# Nmax is the number of evaluations\n",
    "# prec is the required precision\n",
    "# dx is the distance over which to take the central-difference derivative (not the same as the step size!)\n",
    "def NewtonRaphsonND(func, x0, Nmax, prec, h): \n",
    "    \"\"\"Function that implements the N-Dimensional Newton-Raphson algorithm for root finding\"\"\"\n",
    "    # perform check that the number of dimensions is the same for the function and variables\n",
    "    N = len(func(x0)) # get the number of dimensions\n",
    "    if N != len(x0):\n",
    "         raise Exception(\"The length of the function vector is not the same as the number of unknowns\")\n",
    "    n = 0 # the number of steps taken\n",
    "    val = 1E99*np.ones(N) # the value of the equations, initialize to a large number\n",
    "    roots = np.nan*np.ones(N) # initialize the roots to \"not a number\"\n",
    "    for nn in range(Nmax): # loop runs up to the max number of evals, or up to the point where the precision is reached\n",
    "        # get the values of the function at x0:\n",
    "        minus_f = -func(x0)\n",
    "        # check whether the required precision has been reached for *each* value:\n",
    "        if np.all(np.abs(minus_f) < prec):\n",
    "            n = nn # save the number of steps taken \n",
    "            print('Newton-Raphson Precision reached! Exiting')\n",
    "            break # exit the loop nn\n",
    "        # Get the Jacobian (J):\n",
    "        J = Jacobian(func, x0, h)\n",
    "        # calculate the step vector Dx using linear algebra (see Chapter 6, \"NumPy's linalg Package\" section)\n",
    "        Dx = linalg.solve(J, minus_f).reshape(N) # turn this into the right shape (column vector)\n",
    "        # update the guess and the value of the equation:\n",
    "        x0 = np.add(x0, Dx)\n",
    "    roots = x0\n",
    "    return roots, n"
   ]
  },
  {
   "cell_type": "markdown",
   "id": "f5c550d8-38d8-4f85-8cc8-38b80cf2565b",
   "metadata": {},
   "source": [
    "Essentially, all we now need is a function that spits out the nonlinear equations to be solved. "
   ]
  },
  {
   "cell_type": "code",
   "execution_count": 3,
   "id": "571f3d08-ac84-4685-ba28-922744e7f681",
   "metadata": {},
   "outputs": [],
   "source": [
    "# the theory function:\n",
    "def g(x, a):\n",
    "    \"\"\"The Breit-Wigner in terms of a1, a2, a3\"\"\"\n",
    "    return a[0]/((x-a[1])**2 + a[2])\n",
    "\n",
    "# function that contains the non-linear equations that we need to solve,\n",
    "# in the same format as fi_twomasses in Solution6.2.ipynb\n",
    "# Instead of \"x\" we use \"a\" as the \"vector\" of unknowns, in this case a_1, a_2, a_3\n",
    "def fi_chisqmin(a):\n",
    "    \"\"\"Function containing the chi-sq minimization conditions\"\"\"\n",
    "    # the data: \n",
    "    xdata = np.array([0, 25, 50, 75, 100, 125, 150, 175, 200])\n",
    "    ydata = np.array([10.6, 16.0, 45.0, 83.5, 52.8, 19.9, 10.8, 8.25, 4.7])\n",
    "    # the functions to be returned:\n",
    "    f1, f2, f3 = 0, 0, 0\n",
    "    # loop over the data and sum:\n",
    "    for i in range(len(xdata)):\n",
    "        f1 = f1 + (ydata[i] - g(xdata[i], a)) / ( (xdata[i] - a[1])**2 + a[2] )\n",
    "        f2 = f2 + (ydata[i] - g(xdata[i], a)) * (xdata[i] - a[1]) /( (xdata[i] - a[1])**2 + a[2] )**2\n",
    "        f3 = f3 + (ydata[i] - g(xdata[i], a)) / ( (xdata[i] - a[1])**2 + a[2] )**2\n",
    "    return np.array([f1, f2, f3])"
   ]
  },
  {
   "cell_type": "code",
   "execution_count": 4,
   "id": "1d076551-2c92-45ef-b33b-863258887a0c",
   "metadata": {},
   "outputs": [
    {
     "name": "stdout",
     "output_type": "stream",
     "text": [
      "Newton-Raphson Precision reached! Exiting\n",
      "The roots are a1, a2 a3= [66884.41393327    77.49358192   788.85039629] after 6 iterations\n",
      "The values of f_r, E_r and Gamma are= 84.7871969737228 77.49358192109344 56.172961335243656\n"
     ]
    }
   ],
   "source": [
    "import numpy as np\n",
    "# Let's find the roots for a1, a2, a3:\n",
    "Nmax = 1000\n",
    "prec = 1E-6\n",
    "h = 1E-5\n",
    "aguess = np.array([40000, 75, 50**2/4])\n",
    "roots, niterations = NewtonRaphsonND(fi_chisqmin, aguess, Nmax, prec, h)\n",
    "print('The roots are a1, a2 a3=', roots, 'after', niterations, 'iterations')\n",
    "print('The values of f_r, E_r and Gamma are=', roots[0]/roots[2], roots[1], 2*np.sqrt(roots[2]))"
   ]
  },
  {
   "cell_type": "code",
   "execution_count": 14,
   "id": "6595fa76-395c-426a-b25c-08129bb80a72",
   "metadata": {},
   "outputs": [
    {
     "data": {
      "image/png": "[encoded data removed]",
      "text/plain": [
       "<Figure size 640x480 with 1 Axes>"
      ]
     },
     "metadata": {},
     "output_type": "display_data"
    }
   ],
   "source": [
    "# plot the fit and data:\n",
    "import matplotlib.pyplot as plt # import matplotlib, a conventional module name is plt\n",
    "import numpy as np\n",
    "\n",
    "fig, ax = plt.subplots() # create the elements required for matplotlib. This creates a figure containing a single axes.\n",
    "\n",
    "# set the labels and titles:\n",
    "ax.set_xlabel(r'$E$ (MeV)', fontsize=20) # set the x label\n",
    "ax.set_ylabel(r'$\\frac{\\mathrm{d}\\sigma}{\\mathrm{d}E}$ (mB/MeV)', fontsize=20) # set the y label \n",
    "ax.set_title('Fitting the data', fontsize=10) # set the title \n",
    "\n",
    "# get the fit data:\n",
    "xfit = np.linspace(0, 200, 100)\n",
    "yfit = [g(x,roots) for x in xfit]\n",
    "# the data:\n",
    "xdata = np.array([0, 25, 50, 75, 100, 125, 150, 175, 200])\n",
    "ydata = np.array([10.6, 16.0, 45.0, 83.5, 52.8, 19.9, 10.8, 8.25, 4.7])\n",
    "\n",
    "# plot the data\n",
    "ax.plot(xdata, ydata, label='data', lw=0,ms=5,marker='o') \n",
    "# plot the interpolations\n",
    "ax.plot(xfit, yfit, label='$\\chi^2$ fit', color='red') \n",
    "\n",
    "\n",
    "# construct the legend:\n",
    "ax.legend(loc='upper right')  # Add a legend\n",
    "\n",
    "plt.show() # show the plot here"
   ]
  },
  {
   "cell_type": "markdown",
   "id": "225e8c73-f4f5-4c64-b451-f71afcca7d74",
   "metadata": {},
   "source": [
    "Let's write a function for chisq given the parameters:"
   ]
  },
  {
   "cell_type": "code",
   "execution_count": 12,
   "id": "0b13cfa6-6be7-466f-a4c8-d9d394a04eb8",
   "metadata": {},
   "outputs": [
    {
     "name": "stdout",
     "output_type": "stream",
     "text": [
      "error for sigma=1 21.065754296306597\n",
      "error estimate= 1.8737553333838526\n",
      "confirm that chisq ~ 6 for this: 6.0\n"
     ]
    }
   ],
   "source": [
    "def chisq(a, sigma):\n",
    "    \"\"\"Function that calculates the actual chi-sq \"\"\"\n",
    "    # the data: \n",
    "    xdata = np.array([0, 25, 50, 75, 100, 125, 150, 175, 200])\n",
    "    ydata = np.array([10.6, 16.0, 45.0, 83.5, 52.8, 19.9, 10.8, 8.25, 4.7])\n",
    "    # the chisq:\n",
    "    chisq = 0\n",
    "    # loop over the data and sum:\n",
    "    for i in range(len(xdata)):\n",
    "        chisq += (ydata[i] - g(xdata[i], a))**2 / sigma**2\n",
    "    return chisq\n",
    "\n",
    "chisq_sigma1 = chisq(roots, 1)\n",
    "print('error for sigma=1', chisq_sigma1)\n",
    "# the chisq should be ~ ndof = 9 - 3 = 6\n",
    "sigma_estimate = np.sqrt(chisq_sigma1/6)\n",
    "print('error estimate=', sigma_estimate)\n",
    "print('confirm that chisq ~ 6 for this:', chisq(roots, sigma_estimate))\n"
   ]
  },
  {
   "cell_type": "markdown",
   "id": "81797635-a74b-4e38-88cd-d9950316b898",
   "metadata": {},
   "source": [
    "Let's also use scipy's ```curve_fit``` to try and fit this!"
   ]
  },
  {
   "cell_type": "code",
   "execution_count": 52,
   "id": "854aab6f-013f-47f7-b949-7d5a1aa02bf5",
   "metadata": {},
   "outputs": [
    {
     "name": "stdout",
     "output_type": "stream",
     "text": [
      "SciPy a1, a2, a3= [66886.39636723    77.493579     788.88395655]\n",
      "Errors: 3438.636109945428 0.726104132590368 49.77860417094824\n",
      "[[ 1.18242183e+07 -2.85998171e+02  1.61981198e+05]\n",
      " [-2.85998171e+02  5.27227211e-01 -4.88183428e+00]\n",
      " [ 1.61981198e+05 -4.88183428e+00  2.47790943e+03]]\n"
     ]
    }
   ],
   "source": [
    "from scipy.optimize import curve_fit\n",
    "\n",
    "# the theory function:\n",
    "def g2(x, a1, a2, a3):\n",
    "    \"\"\"The Breit-Wigner in terms of a1, a2, a3\"\"\"\n",
    "    return a1/((x-a2)**2 + a3)\n",
    "\n",
    "xdata = np.array([0, 25, 50, 75, 100, 125, 150, 175, 200])\n",
    "ydata = np.array([10.6, 16.0, 45.0, 83.5, 52.8, 19.9, 10.8, 8.25, 4.7])\n",
    "\n",
    "# solve!:\n",
    "popt, pcov = curve_fit(g2, xdata, ydata)\n",
    "print('SciPy a1, a2, a3=', popt)\n",
    "# We can also get the errors through this!\n",
    "print('Errors:', np.sqrt(pcov[0][0]), np.sqrt(pcov[1][1]), np.sqrt(pcov[2][2]))\n",
    "# and the full covariance matrix allows us to look at the correlations between parameters:\n",
    "print(pcov)"
   ]
  },
  {
   "cell_type": "code",
   "execution_count": null,
   "id": "78b53ebf-b77a-4669-9892-cf5afbc7c034",
   "metadata": {},
   "outputs": [],
   "source": []
  }
 ],
 "metadata": {
  "kernelspec": {
   "display_name": "Python 3 (ipykernel)",
   "language": "python",
   "name": "python3"
  },
  "language_info": {
   "codemirror_mode": {
    "name": "ipython",
    "version": 3
   },
   "file_extension": ".py",
   "mimetype": "text/x-python",
   "name": "python",
   "nbconvert_exporter": "python",
   "pygments_lexer": "ipython3",
   "version": "3.11.11"
  }
 },
 "nbformat": 4,
 "nbformat_minor": 5
}
