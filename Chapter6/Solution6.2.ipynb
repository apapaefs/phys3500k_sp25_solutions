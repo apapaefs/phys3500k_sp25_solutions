{
 "cells": [
  {
   "cell_type": "markdown",
   "id": "1bed1b0f-9458-42b3-94ab-905429afe2e8",
   "metadata": {},
   "source": [
    "# Exercise 6.2: Two masses connected by strings. \n",
    "\n",
    "Two masses 1 and 2, of  weights $W_1, W_2$, respectively, are hung from three pieces of string with lengths $L_1, L_2, L_3$ and a horizontal bar of length $L$. \n",
    "\n",
    "Using $N$-dimensional Newton-Raphson searching, find the angles $\\theta_1$, $\\theta_2$ \n",
    "and $\\theta_3$ and the tensions exerted by the strings $T_1$, $T_2$, $T_3$. \n",
    "\n",
    "Use the values: $W_1 = 10$ N, $W_2 = 20$ N, $(L_1, L_2, L_3)=(3,4,4)$ m and $L=8$ m. \n"
   ]
  },
  {
   "cell_type": "markdown",
   "id": "a2c40659-c65b-409d-9ba6-b8e27cceeba2",
   "metadata": {},
   "source": [
    "Solution:\n",
    "\n",
    "Let's begin by creating a Jacobian function that yields an $N\\times N$ NumPy array of the partial derivatives as requested. We will then use NumPy's linalg package to solve the linear equation $\\mathbf{J} \\Delta \\vec{x} = -\\vec{f}$ to move through the guesses. The structure of the Newton-Raphson searching should otherwise be very similar to the one-dimensional case. "
   ]
  },
  {
   "cell_type": "code",
   "execution_count": 12,
   "id": "b6ff3264-5f8e-46af-aeb6-37d39738cf95",
   "metadata": {},
   "outputs": [],
   "source": [
    "import numpy as np\n",
    "from numpy import linalg \n",
    "\n",
    "# modify from Chapter 4: \n",
    "# define a function for the central-difference derivative.\n",
    "# x is now a NumPy array\n",
    "# i is the component of the function (f_i) to be differentiated\n",
    "# j is the component of the vector x to differentiate by (x_j)\n",
    "def dfdt_CD_ND(funcvector, i, j, x, h): \n",
    "    \"\"\"Calculates the central-difference partial derivative of a function func at vector x, in the j-th direction, with step size dx\"\"\"\n",
    "    N = len(x) # get the length of the input array\n",
    "    # increment only the j-th element by an amount dx\n",
    "    dx = np.zeros(N) \n",
    "    dx[j] = h \n",
    "    return (funcvector(x+dx/2)[i] - funcvector(x-dx/2)[i])/h\n",
    "\n",
    "# A higher-order function that calculates the Jacobian matrix for the N-dimensional vector of functions f_i:\n",
    "# we will use a central-difference approximation to the derivatives, and a parameter h = 1E-5 for all directions \n",
    "def Jacobian(funcvector, x, h): # the input should be a NumPy array of functions, each of which is a function of N variables (x_i)\n",
    "    \"\"\"Calculate the Jacobian of the function vector as an NxN matrix using the central-difference approximation to the derivatives\"\"\"\n",
    "    N = len(funcvector(x)) # get the number of dimensions\n",
    "    output = np.zeros((N,N)) #  the output is an NxN NumPy array\n",
    "    for i in range(N): # loop over the functions f_i\n",
    "        for j in range(N): # loop over variables x_j:\n",
    "            dfi_dxj = dfdt_CD_ND(funcvector, i,j,x,h)\n",
    "            output[i][j] = dfi_dxj[0] # set this to the correct element of the Jacobian   \n",
    "    return output "
   ]
  },
  {
   "cell_type": "markdown",
   "id": "83a8e30d-a3aa-4e51-9b6d-6949d920dc99",
   "metadata": {},
   "source": [
    "We ought to check that this indeed works as intendend! E.g. let's get the result for a *linear* function, for which the Jacobian can be trivially calculated! "
   ]
  },
  {
   "cell_type": "code",
   "execution_count": 13,
   "id": "4ec60433-4cc5-421d-a339-63d3c2969a2e",
   "metadata": {},
   "outputs": [
    {
     "name": "stdout",
     "output_type": "stream",
     "text": [
      "[2.]\n",
      "[1.]\n",
      "[1.]\n",
      "[1.]\n",
      "[[2. 1.]\n",
      " [1. 1.]]\n"
     ]
    }
   ],
   "source": [
    "# CHECK Jacobian with linear functions:\n",
    "def fi_check_linear(x):\n",
    "    funcmatrix = np.array([[2*x[0] + x[1] - 13], [ x[0] + x[1] - 9 ]])\n",
    "    return funcmatrix\n",
    "\n",
    "# Perform check:\n",
    "h=1E-5 # step length for derivatives\n",
    "x0 = [1, 2] # point for evaluation derivatives (this will be irrelevant since the functions are linear)\n",
    "print(Jacobian(fi_check_linear, x0, h))"
   ]
  },
  {
   "cell_type": "markdown",
   "id": "e38ea969-59e3-4d3c-a933-2b8498654ee1",
   "metadata": {},
   "source": [
    "The above is as expected for linear functions. Let's try it out with non-linear functions as well. "
   ]
  },
  {
   "cell_type": "code",
   "execution_count": 3,
   "id": "b1ff5a1d-3bcf-4dc5-976b-dc3ff43303f7",
   "metadata": {},
   "outputs": [
    {
     "name": "stdout",
     "output_type": "stream",
     "text": [
      "[[2. 1.]\n",
      " [1. 4.]]\n"
     ]
    }
   ],
   "source": [
    "# CHECK Jacobian with non-linear functions:\n",
    "def fi_check_nonlinear(x):\n",
    "    funcmatrix = np.array([[x[0]**2 + x[1] - 21], [ x[0] + x[1]**2 - 29 ]])\n",
    "    return funcmatrix\n",
    "\n",
    "# Perform check:\n",
    "h=1E-5 # step length for derivatives\n",
    "x0 = [1, 2] # point for evaluation derivatives\n",
    "print(Jacobian(fi_check_nonlinear, x0, h))"
   ]
  },
  {
   "cell_type": "markdown",
   "id": "ad1e1aa6-a793-472f-9740-2c21862e67c8",
   "metadata": {},
   "source": [
    "This also works as intended! We have a functioning Jacobian, so let's proceed with the implementation of the Newton-Raphson!\n",
    "\n",
    "We will use the one-dimensional function as a basis (Example 6.2)"
   ]
  },
  {
   "cell_type": "code",
   "execution_count": 4,
   "id": "8bbfc88f-2540-4afa-82c4-dedf74254c16",
   "metadata": {},
   "outputs": [],
   "source": [
    "import numpy as np\n",
    "from numpy import linalg \n",
    "\n",
    "# The N-D Newton-Raphson algorithm: \n",
    "# x0 is the initial guess, it should have the same dimensions as the number of variables! \n",
    "# Nmax is the number of evaluations\n",
    "# prec is the required precision\n",
    "# dx is the distance over which to take the central-difference derivative (not the same as the step size!)\n",
    "def NewtonRaphsonND(func, x0, Nmax, prec, h): \n",
    "    \"\"\"Function that implements the N-Dimensional Newton-Raphson algorithm for root finding\"\"\"\n",
    "    # perform check that the number of dimensions is the same for the function and variables\n",
    "    N = len(func(x0)) # get the number of dimensions\n",
    "    if N != len(x0):\n",
    "         raise Exception(\"The length of the function vector is not the same as the number of unknowns\")\n",
    "    n = 0 # the number of steps taken\n",
    "    val = 1E99*np.ones(N) # the value of the equations, initialize to a large number\n",
    "    roots = np.nan*np.ones(N) # initialize the roots to \"not a number\"\n",
    "    for nn in range(Nmax): # loop runs up to the max number of evals, or up to the point where the precision is reached\n",
    "        # get the values of the function at x0:\n",
    "        minus_f = -func(x0)\n",
    "        # check whether the required precision has been reached for *each* value:\n",
    "        if np.all(np.abs(minus_f) < prec):\n",
    "            n = nn # save the number of steps taken \n",
    "            print('Newton-Raphson Precision reached! Exiting')\n",
    "            break # exit the loop nn\n",
    "        # Get the Jacobian (J):\n",
    "        J = Jacobian(func, x0, h)\n",
    "        # calculate the step vector Dx using linear algebra (see Chapter 6, \"NumPy's linalg Package\" section)\n",
    "        Dx = linalg.solve(J, minus_f).reshape(N) # turn this into the right shape (column vector)\n",
    "        # update the guess and the value of the equation:\n",
    "        x0 = np.add(x0, Dx)\n",
    "    roots = x0\n",
    "    return roots, n"
   ]
  },
  {
   "cell_type": "markdown",
   "id": "1ba28e9c-d5ac-4ae3-ac86-88932ee846bb",
   "metadata": {},
   "source": [
    "Let's now check our N-D Newton-Raphson with the linear and non-linear check functions for which we know the solutions!"
   ]
  },
  {
   "cell_type": "code",
   "execution_count": 5,
   "id": "331b339b-5e82-48cb-a769-f4ddd72c31e9",
   "metadata": {},
   "outputs": [
    {
     "name": "stdout",
     "output_type": "stream",
     "text": [
      "Newton-Raphson Precision reached! Exiting\n",
      "The roots of the linear equations are= [4. 5.]\n",
      "Newton-Raphson Precision reached! Exiting\n",
      "The roots of the non-linear equations are= [4.00000012 4.99999999]\n"
     ]
    }
   ],
   "source": [
    "# CHECK the linear function: \n",
    "Nmax = 1000\n",
    "prec = 1E-6\n",
    "h = 1E-5\n",
    "x0 = np.array([0,0])\n",
    "roots, niterations = NewtonRaphsonND(fi_check_linear, x0, Nmax, prec, h)\n",
    "print('The roots of the linear equations are=', roots)\n",
    "\n",
    "# CHECK the non-linear function:\n",
    "roots, niterations = NewtonRaphsonND(fi_check_nonlinear, x0, Nmax, prec, h)\n",
    "print('The roots of the non-linear equations are=', roots)"
   ]
  },
  {
   "cell_type": "markdown",
   "id": "20b31d33-412f-4a24-b34d-14330ad78cc3",
   "metadata": {},
   "source": [
    "Both are correct! Let's now proceed to solve our problem of two masses suspended by strings. \n",
    "\n",
    "We first need to write down the equations in the correct form and then pick a good starting guess. "
   ]
  },
  {
   "cell_type": "code",
   "execution_count": 6,
   "id": "2e033853-e12e-490b-8501-59ed22926e09",
   "metadata": {},
   "outputs": [],
   "source": [
    "import numpy as np\n",
    "\n",
    "# Our equation for the two masses on the string\n",
    "# start with the two length constraints,\n",
    "# then the equilibrium conditions\n",
    "# and then the trigonometric identities\n",
    "# x=(sth1, sth2, sth3, ct1, ct2, ct3, T1, T2, T3) corresponding to:\n",
    "# x=(x[0], x[1], x[2], ..., x[8])\n",
    "L1 = 3\n",
    "L2 = 4\n",
    "L3 = 4\n",
    "W1 = 10\n",
    "W2 = 20\n",
    "L = 8\n",
    "def fi_twomasses(x):\n",
    "    \"\"\"The nonlinear coupled equations for two masses on a string\"\"\"\n",
    "    funcmatrix = np.array([\n",
    "        [L1*x[3] + L2*x[4] + L3*x[5] - L], \n",
    "        [L1*x[0] + L2*x[1] - L3*x[2]],\n",
    "        [x[6]*x[0] - x[7]*x[1] - W1],\n",
    "        [x[6]*x[3] - x[7]*x[4]],\n",
    "        [x[7]*x[1] + x[8]*x[2] - W2],\n",
    "        [x[7]*x[4] - x[8]*x[5]],\n",
    "        [x[0]**2 + x[3]**2 - 1],\n",
    "        [x[1]**2 + x[4]**2 - 1],\n",
    "        [x[2]**2 + x[5]**2 - 1]])\n",
    "    return funcmatrix"
   ]
  },
  {
   "cell_type": "code",
   "execution_count": 7,
   "id": "300a6d02-280d-4cd2-927c-2f606a39a35b",
   "metadata": {},
   "outputs": [
    {
     "name": "stdout",
     "output_type": "stream",
     "text": [
      "Newton-Raphson Precision reached! Exiting\n",
      "The roots of the two mass equations are= [ 0.76100269  0.26495381  0.83570583  0.64874872  0.9642611   0.54917735\n",
      " 17.16020978 11.54527968 20.27152804]\n",
      "Reached after 8 iterations\n"
     ]
    }
   ],
   "source": [
    "import numpy as np \n",
    "# CHECK the linear function: \n",
    "Nmax = 1000\n",
    "prec = 1E-6\n",
    "h = 1E-5\n",
    "x0 = np.array([0.5, 0.5, 0.5, 0.5, 0.5, 0.5, 1, 1, 1])\n",
    "roots, niterations = NewtonRaphsonND(fi_twomasses, x0, Nmax, prec, h)\n",
    "print('The roots of the two mass equations are=', roots)\n",
    "print('Reached after', niterations, 'iterations')"
   ]
  },
  {
   "cell_type": "markdown",
   "id": "f6069b8d-6336-4559-927e-d2af619334d2",
   "metadata": {},
   "source": [
    "Let's perform some consistency checks! "
   ]
  },
  {
   "cell_type": "code",
   "execution_count": 8,
   "id": "88bdb245-33aa-46af-82eb-483030726f74",
   "metadata": {},
   "outputs": [
    {
     "name": "stdout",
     "output_type": "stream",
     "text": [
      "sth1**2 + ct1**2= 1.0000000000008653\n",
      "sth2**2 + ct2**2= 1.0000000000004041\n",
      "sth3**2 + ct3**2= 1.000000000000512\n"
     ]
    }
   ],
   "source": [
    "# Do the angles satisfy the trig identities? \n",
    "# x=(sth1, sth2, sth3, ct1, ct2, ct3, T1, T2, T3) corresponding to:\n",
    "# x=(x[0], x[1], x[2], ..., x[8])\n",
    "print('sth1**2 + ct1**2=', roots[0]**2 + roots[3]**2)\n",
    "print('sth2**2 + ct2**2=', roots[1]**2 + roots[4]**2)\n",
    "print('sth3**2 + ct3**2=', roots[2]**2 + roots[5]**2)"
   ]
  },
  {
   "cell_type": "markdown",
   "id": "2d44d973-8f4d-47ab-9f1a-fecd841a15f3",
   "metadata": {},
   "source": [
    "They all seem correct! \n",
    "The final solutions are then:"
   ]
  },
  {
   "cell_type": "code",
   "execution_count": 9,
   "id": "8c3e6094-cac2-423e-9aa2-5b36edb70cca",
   "metadata": {},
   "outputs": [
    {
     "name": "stdout",
     "output_type": "stream",
     "text": [
      "theta_1,2,3= 49.55267292072046 15.364208216019374 56.68940565509829 deg\n"
     ]
    }
   ],
   "source": [
    "theta1 = np.arcsin(roots[0])/2/np.pi * 360\n",
    "theta2 = np.arcsin(roots[1])/2/np.pi * 360\n",
    "theta3 = np.arcsin(roots[2])/2/np.pi * 360\n",
    "print('theta_1,2,3=', theta1, theta2, theta3, 'deg')"
   ]
  },
  {
   "cell_type": "code",
   "execution_count": 10,
   "id": "46b401af-89f3-4eab-903a-751a083580ce",
   "metadata": {},
   "outputs": [
    {
     "name": "stdout",
     "output_type": "stream",
     "text": [
      "T_1,2,3= 17.160209784580474 11.545279684311419 20.271528044627086 N\n"
     ]
    }
   ],
   "source": [
    "T1 = roots[6]\n",
    "T2 = roots[7]\n",
    "T3 = roots[8]\n",
    "print('T_1,2,3=', T1, T2, T3,'N')"
   ]
  },
  {
   "cell_type": "code",
   "execution_count": 11,
   "id": "1885dc18-08bc-4b7a-a79b-03e2172e5bb2",
   "metadata": {},
   "outputs": [
    {
     "name": "stdout",
     "output_type": "stream",
     "text": [
      "[ 0.76100269  0.26495381  0.83570583  0.64874872  0.9642611   0.54917735\n",
      " 17.16020978 11.54527968 20.27152804]\n"
     ]
    }
   ],
   "source": [
    "# Use SciPy's root finder as a test:\n",
    "from scipy import optimize\n",
    "import numpy as np\n",
    "\n",
    "# Our equation for the two masses on the string\n",
    "# start with the two length constraints,\n",
    "# then the equilibrium conditions\n",
    "# and then the trigonometric identities\n",
    "# x=(sth1, sth2, sth3, ct1, ct2, ct3, T1, T2, T3) corresponding to:\n",
    "# x=(x[0], x[1], x[2], ..., x[8])\n",
    "L1 = 3\n",
    "L2 = 4\n",
    "L3 = 4\n",
    "W1 = 10\n",
    "W2 = 20\n",
    "L = 8\n",
    "def fi_twomasses(x):\n",
    "    \"\"\"The nonlinear coupled equations for two masses on a string\"\"\"\n",
    "    funcmatrix = np.array([\n",
    "        [L1*x[3] + L2*x[4] + L3*x[5] - L], \n",
    "        [L1*x[0] + L2*x[1] - L3*x[2]],\n",
    "        [x[6]*x[0] - x[7]*x[1] - W1],\n",
    "        [x[6]*x[3] - x[7]*x[4]],\n",
    "        [x[7]*x[1] + x[8]*x[2] - W2],\n",
    "        [x[7]*x[4] - x[8]*x[5]],\n",
    "        [x[0]**2 + x[3]**2 - 1],\n",
    "        [x[1]**2 + x[4]**2 - 1],\n",
    "        [x[2]**2 + x[5]**2 - 1]])\n",
    "    return np.ravel( funcmatrix[ : , 0] ) # necessary to convert to the right format for SciPy's root finder\n",
    "root = optimize.root(fi_twomasses, x0)\n",
    "print(root.x)"
   ]
  },
  {
   "cell_type": "code",
   "execution_count": null,
   "id": "c08e86a0-6822-4cda-984b-d8b614c83ade",
   "metadata": {},
   "outputs": [],
   "source": []
  }
 ],
 "metadata": {
  "kernelspec": {
   "display_name": "Python 3 (ipykernel)",
   "language": "python",
   "name": "python3"
  },
  "language_info": {
   "codemirror_mode": {
    "name": "ipython",
    "version": 3
   },
   "file_extension": ".py",
   "mimetype": "text/x-python",
   "name": "python",
   "nbconvert_exporter": "python",
   "pygments_lexer": "ipython3",
   "version": "3.12.2"
  }
 },
 "nbformat": 4,
 "nbformat_minor": 5
}
