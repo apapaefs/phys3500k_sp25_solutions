{
 "cells": [
  {
   "cell_type": "markdown",
   "id": "fa59d49e-2ab6-4e62-b75f-4c91291be01c",
   "metadata": {},
   "source": [
    "# Exercise 2.1: From double precision to binary IEEE754 \n",
    "\n",
    "(a) Write a function that converts a positive integer or a positive float to the binary representation. Floats should be in a 52-bit representation and integers in 11 bits.  \n",
    "\n",
    "To convert integer to binary, start with the integer in question and divide it by 2 keeping notice of the quotient and the remainder. Continue dividing the quotient by 2 until you get a quotient of zero. Then just write out the remainders in the reverse order.\n",
    "\n",
    "Here is an example of such conversion using the integer 12.\n",
    "\n",
    "First, let’s divide the number by two specifying quotient and remainder:\n",
    "\n",
    "12/2 = 6 + remainder 0\n",
    "\n",
    "6/2 = 3 + remainder 0\n",
    "\n",
    "3/2 = 1 + remainder 1\n",
    "\n",
    "1/2 = 0 + remainder 1\n",
    "\n",
    "Now, we simply need to write out the remainder in the reverse order — 1100. So, 12 in decimal system is represented as 1100 in binary.\n",
    "\n",
    "To convert fraction to binary, start with the fraction in question and multiply it by 2 keeping notice of the resulting integer and fractional part. Continue multiplying by 2 until you get a resulting fractional part equal to zero. Then just write out the integer parts from the results of each multiplication.\n",
    "Here is an example of such conversion using the fraction 0.375:\n",
    "\n",
    "0.375 * 2 = 0 + 0.75 \n",
    "\n",
    "0.75 * 2 = 1 + 0.5\n",
    "\n",
    "0.5 * 2 = 1 + 0\n",
    "\n",
    "Now, let’s just write out the resulting integer part at each step: 011. So, 0.375 in decimal system is represented as 011 in binary.\n",
    "\n",
    "(b) Test your function from part (a) for the numbers 31, 1031, 0.253, 0.28.\n",
    "\n",
    "(c) Write a function that takes as input any double and converts it to the binary IEEE754 representation. Make sure you use the format of the examples given in the lecture notes!\n",
    "\n",
    "Here is the algorithm again for the conversion: \n",
    "\n",
    "A 64-bit (double precision) float can then be represented in decimal (base 10) by the formula:\n",
    "\n",
    "$n= (-1)^s\\times 2^{e-1023} \\times (1+f)$\n",
    "\n",
    "Our goal is to find $e$ (the exponent) and $f$, and convert them to binary. The format should then be:\n",
    "\n",
    "sign (1 bit) exponent (11 bits) float (52 bits)\n",
    "\n",
    "The sign bit is either 0 (positive $n$) or 1 (negative $n$). \n",
    "\n",
    "To find $e$, we find the largest power of $2$ that yields a number smaller than $|n|$. E.g. if we are aiming for $n=-300.1$, then $2^8=256$ is smaller than $|n|=300.1$, and therefore $8=e-1023$ and $e=1031$. \n",
    "\n",
    "To find $f$, we then need to divide $|n|$ by $2^{e-1031}$ and subtract 1:\n",
    "\n",
    "$f = |n|/2^{e-1031} - 1$. \n",
    "\n",
    "\n",
    "(d) Test it for the numbers: 15.0, -12.0, 27.2, -300.1. \n"
   ]
  },
  {
   "cell_type": "markdown",
   "id": "d3aaf15a-58bd-45e2-8773-7ef0ee001807",
   "metadata": {},
   "source": [
    "Solution to Exercise 2.1: \n",
    "\n",
    "We need to calculate the coefficients of the representation $n= (-1)^2\\times 2^{e-1023} \\times (1+f)$ in order to figure out how to write down the IEEE754 representation. \n",
    "\n",
    "$s$ can be easily checked by checking the sign of the input double. The exponent $e$ can be deduced by finding the highest power of 2, $x$, that yields a number smaller than the double. f can then be deduced via the equation f = abs(n) / 2**x - 1. \n",
    "\n",
    "(a) To begin with, we need to write a function that converts integers or decimals to binary. We then use this function in the solution.\n",
    "\n"
   ]
  },
  {
   "cell_type": "code",
   "execution_count": 1,
   "id": "05819f05-ad60-4c4d-9e0a-c8700d87a037",
   "metadata": {},
   "outputs": [],
   "source": [
    "def to_binary(numin):\n",
    "    \"\"\"Return the binary representation given a double or integer\"\"\"\n",
    "    # a list to hold the binary digits:\n",
    "    binary = []\n",
    "    # check the type of the input number with the built-in isinstance() function.\n",
    "    if isinstance(numin, int): # if the input is an integer then do this to get its binary representation:\n",
    "        while numin > 1:\n",
    "            binary_digit = numin%2\n",
    "            binary.append(binary_digit)\n",
    "            numin = int(numin / 2)\n",
    "        binary.append(numin%2) # the while loop misses the last digit, so add it\n",
    "         # the reverse list is the binary representation\n",
    "        binary.reverse()\n",
    "        # make sure 11 bits are used:\n",
    "        while len(binary) < 11:\n",
    "            binary.append(0)\n",
    "    elif isinstance(numin, float): # if the input is a float, then do this to get its binary representation: \n",
    "        while numin != 1: # stop when the input number hits 1\n",
    "            binary_digit = int(numin*2) # get the integer part of numin*2 \n",
    "            binary.append(binary_digit)\n",
    "            # if the multiplication results to a number greater than 1, remove 1, else take the number and continue\n",
    "            if 2*numin > 1:\n",
    "                numin = numin*2 - 1\n",
    "            else:\n",
    "                numin = numin*2\n",
    "        # make sure 52 bits are used:\n",
    "        while len(binary) < 52:\n",
    "            binary.append(0)\n",
    "    # use list comprehension to return a string instead of the list:\n",
    "    binarystring = \"\".join([str(b) for b in binary])\n",
    "    return binarystring\n",
    "\n",
    "\n",
    "        \n",
    "    "
   ]
  },
  {
   "cell_type": "code",
   "execution_count": 5,
   "id": "92c82551-0ee0-4f6b-8bdf-dba3daaddf2b",
   "metadata": {
    "scrolled": true
   },
   "outputs": [
    {
     "name": "stdout",
     "output_type": "stream",
     "text": [
      "binary rep of 31 is 11111000000\n",
      "binary rep of 2048 is 100000000000\n",
      "binary rep of 0.253 is 01000000110001001001101110100101111000110101001111111\n",
      "binary rep of 0.28 is 0100011110101110000101000111101011100001010001111011\n"
     ]
    }
   ],
   "source": [
    "# (b) test the functions: \n",
    "to_convert = [31, 2048, 0.253, 0.28]\n",
    "for c in to_convert:\n",
    "    print('binary rep of', c, 'is', to_binary(c))\n"
   ]
  },
  {
   "cell_type": "markdown",
   "id": "086c2cd1-ddd6-4525-988b-34cf3b1cf042",
   "metadata": {},
   "source": [
    "(c) We then use the above function to construct a function that converts any number to the IEEE754 format. "
   ]
  },
  {
   "cell_type": "code",
   "execution_count": 11,
   "id": "1e726400-52dd-47a5-8587-d11acdb567cc",
   "metadata": {},
   "outputs": [],
   "source": [
    "def double_to_IEEE754(double): \n",
    "    \"\"\"Return the IEEE754 binary representation given a double\"\"\"\n",
    "    # check the sign: \n",
    "    if double > 0: # if the double is positive, then the first binary digit is zero:\n",
    "        s = 0\n",
    "    else: \n",
    "        s = 1\n",
    "    # We then ask for the exponent e to give us the first number which is a power of two that is smaller than double (use the absolute value)\n",
    "    x = 0 \n",
    "    while 2**x < abs(double): # while 2^x is less than the absolute value of double, increment x\n",
    "        x = x + 1 \n",
    "    x = x - 1 # we want the last one that was actually smaller, so we remove one power \n",
    "    # so the exponent is just:\n",
    "    e = x + 1023\n",
    "    # we can then get the fraction:\n",
    "    f = abs(double)/2**x -1\n",
    "    # use the to_binary function to print the final result:\n",
    "    return str(s) + ' ' + to_binary(e) + ' ' + to_binary(f)\n",
    "    \n"
   ]
  },
  {
   "cell_type": "code",
   "execution_count": 12,
   "id": "a00ee2e3-d4b6-406f-a67e-df3ebc8766cb",
   "metadata": {},
   "outputs": [
    {
     "name": "stdout",
     "output_type": "stream",
     "text": [
      "IEEE754 binary rep of 15.0 is 0 10000000010 1110000000000000000000000000000000000000000000000000\n",
      "IEEE754 binary rep of -12.0 is 1 10000000010 1000000000000000000000000000000000000000000000000000\n",
      "IEEE754 binary rep of 27.2 is 0 10000000011 1011001100110011001100110011001100110011001100110011\n",
      "IEEE754 binary rep of -300.1 is 1 10000000111 0010110000011001100110011001100110011001100110011010\n"
     ]
    }
   ],
   "source": [
    "# (d) Test the above function:\n",
    "\n",
    "to_convert_IEEE754 = [15.0, -12.0, 27.2, -300.1]\n",
    "for cc in to_convert_IEEE754:\n",
    "    print('IEEE754 binary rep of', cc, 'is', double_to_IEEE754(cc))\n"
   ]
  },
  {
   "cell_type": "code",
   "execution_count": null,
   "id": "4336a7a8-9e5f-4b45-a54d-182ecb76d65c",
   "metadata": {},
   "outputs": [],
   "source": []
  }
 ],
 "metadata": {
  "kernelspec": {
   "display_name": "Python 3 (ipykernel)",
   "language": "python",
   "name": "python3"
  },
  "language_info": {
   "codemirror_mode": {
    "name": "ipython",
    "version": 3
   },
   "file_extension": ".py",
   "mimetype": "text/x-python",
   "name": "python",
   "nbconvert_exporter": "python",
   "pygments_lexer": "ipython3",
   "version": "3.12.7"
  }
 },
 "nbformat": 4,
 "nbformat_minor": 5
}
