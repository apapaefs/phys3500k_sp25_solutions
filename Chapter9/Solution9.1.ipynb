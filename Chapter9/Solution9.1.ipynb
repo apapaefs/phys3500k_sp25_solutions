{
 "cells": [
  {
   "cell_type": "markdown",
   "id": "d1bf316c-8835-410b-8cad-f2ccc8a43201",
   "metadata": {},
   "source": [
    "# Exercise 9.1: The Wave Equation in Cylindrical Geometry\n",
    "\n",
    "The wave equation in cylindrical geometry often leads to the eigenvalue problem:\n",
    "\n",
    "$\\left( \\frac{ \\mathrm{d}^2 } { \\mathrm{d} r^2 } + \\frac{1}{r} \\frac{ \\mathrm{d}}{\\mathrm{d} r} \\right) \\Phi(r) = -k^2 \\Phi(r)$,\n",
    "\n",
    "with initial conditions $\\Phi(r=0) = 1$ and $\\Phi(r=1) = 0$. \n",
    "\n",
    "The analytical eigenfunctions are the regular cylindrical Bessel functions of order zero, and the eigenvalues correspond to the zeros of this function: \n",
    "\n",
    "$k_1 = 2.404826$, $k_2 = 5.520078$, $k_3 = 8.653728$, $k_4 = 11.791534$, ...\n",
    "\n",
    "(a) Show that the substitution $\\Phi = r^{-1/2} \\phi$ changes this equation into one for which the Numerov algorithm is appropriate. \n",
    "\n",
    "(b) Modify the code given in Example 9.7 to solve this problem. Compare the numerical eigenvalues with the exact values. Note that you will not be able to start the integration at $r=0$. Try starting at e.g. $r=10^{-13}$, with integration step size $h=10^{-5}$. \n",
    "\n",
    "Note that you should expect $\\mathcal{O}(\\%)$ precision, but not better."
   ]
  },
  {
   "cell_type": "markdown",
   "id": "f59ffef1-4488-442d-9f59-70b55ecc46d5",
   "metadata": {},
   "source": [
    "Solution:\n",
    "\n",
    "Let's use sympy to do the substitution! "
   ]
  },
  {
   "cell_type": "code",
   "execution_count": 26,
   "id": "bf74d687-6da5-4e0e-a046-0fca7002fead",
   "metadata": {},
   "outputs": [
    {
     "name": "stdout",
     "output_type": "stream",
     "text": [
      "     -x    3         -x    2                -x           2         -x    3   \n",
      "  2⋅ℯ  ⋅sin (x)   3⋅ℯ  ⋅sin (x)⋅cos(x)   3⋅ℯ  ⋅sin(x)⋅cos (x)   3⋅ℯ  ⋅cos (x)\n",
      "- ───────────── - ──────────────────── - ──────────────────── - ─────────────\n",
      "        5                  5                      10                  10     \n",
      "\\frac{1.0 k^{2} \\phi{\\left(r \\right)}}{r^{0.5}} + \\frac{0.25 \\phi{\\left(r \\right)}}{r^{2.5}} + \\frac{1.0 \\frac{d^{2}}{d r^{2}} \\ph\n",
      "i{\\left(r \\right)}}{r^{0.5}}\n"
     ]
    }
   ],
   "source": [
    "from sympy import *\n",
    "\n",
    "# define the independent variable and the constant k2:\n",
    "r, k2, x= symbols('r k^2 x')\n",
    "\n",
    "\n",
    "# define the functions:\n",
    "Ph, ph, f, g= symbols('\\Phi \\phi f, g', cls=Function)\n",
    "\n",
    "g = g(x)\n",
    "f = exp(-x)*sin(x)**3\n",
    "pprint(integrate(f, x))\n",
    "\n",
    "#pprint(latex(diff(f,x,1)))\n",
    "\n",
    "# tell sympy what the functions are: \n",
    "ph = ph(r)\n",
    "Ph = r**(-1/2)* ph\n",
    "\n",
    "# \"substitute\" into the differential equation: \n",
    "Eqn = diff(Ph,r, 2) + (1/r) * diff(Ph,r, 1) + k2 * Ph\n",
    "pprint(latex(simplify(Eqn)))"
   ]
  },
  {
   "cell_type": "markdown",
   "id": "1f1167f5-b479-4536-9b89-1e80f7efb727",
   "metadata": {},
   "source": [
    "$x^{2} \\frac{d^{2}}{d x^{2}} g{\\left(x \\right)} + 2 x \\frac{d}{d x} g{\\left(x \\right)}$\n",
    "\n",
    "So the equation reads: \n",
    "\n",
    "$\\frac{1.0 k^{2} \\phi{\\left(r \\right)}}{r^{0.5}} + \\frac{0.25 \\phi{\\left(r \\right)}}{r^{2.5}} + \\frac{1.0 \\frac{d^{2}}{d r^{2}} \\phi{\\left(r \\right)}}{r^{0.5}} = 0$\n",
    "\n",
    "or simplified: \n",
    "\n",
    "$\\frac{ \\mathrm{d}^2 \\phi } { \\mathrm{d} r^2 } = - (k^2 + \\frac{1}{4} r^{-2}) \\phi$."
   ]
  },
  {
   "cell_type": "markdown",
   "id": "df5f8b97-6874-4883-9444-e3ec459db1bc",
   "metadata": {},
   "source": [
    "We can now modify the code of Example 9.7 to get the eigenvalues. We need to replace $k^2$ by the appropriate function of $r$. "
   ]
  },
  {
   "cell_type": "code",
   "execution_count": 8,
   "id": "01f7810e-b7de-4962-b73c-9b2a79f971e4",
   "metadata": {},
   "outputs": [],
   "source": [
    "import numpy as np\n",
    "import math\n",
    "\n",
    "# Numerov's algorithm (forward)\n",
    "# takes as input the initial conditions y(0) and y'(0) as y0 and yp0\n",
    "# h is the step size, the k-squared term (k2), the S term -- these are FUNCTIONS!\n",
    "# the initial value of the independent variable x0, and the final value xf\n",
    "# returns t,y as the solution arrays\n",
    "def Numerov(k2, S, y0, yp0, h, x0, xf):\n",
    "    \"\"\"Returns the solution to a 2nd-order ODEs of the type: y'' + k^2 y = S(x) via the Numerov algorithm\"\"\"\n",
    "    # the number of steps:\n",
    "    N = int( (xf-x0)/h ) # needs to be an integer\n",
    "    # get y1 via Taylor series:\n",
    "    y1 = y0 + h * yp0\n",
    "    # define the numpy arrays to return\n",
    "    ya = np.zeros(N+1)\n",
    "    xa = np.zeros(N+1)\n",
    "    # set the first two values of the arrays:\n",
    "    ya[0] = y0\n",
    "    ya[1] = y1\n",
    "    xa[0] = x0\n",
    "    xa[1] = x0 + h\n",
    "    # integrate via the Numerov algo:\n",
    "    for n in range(1,N):\n",
    "        x = x0 + n*h\n",
    "        xa[n]=x\n",
    "        h2dt = h**2/12 # appears often so let's just calculate it once!\n",
    "        ya[n+1] = (2 * (1 - 5*h2dt * k2(x)) * ya[n] - (1 + h2dt *k2(x-h)) * ya[n-1] + h2dt*(S(x+h) + 10 * S(x) + S(x-h)))/((1 + h2dt * k2(x+h) ))    \n",
    "    xa[N] = xf # set the last x value which is not set in the loop\n",
    "    return xa,ya"
   ]
  },
  {
   "cell_type": "code",
   "execution_count": 9,
   "id": "f5366514-bb09-4321-a3db-c1f475f2ab03",
   "metadata": {},
   "outputs": [],
   "source": [
    "# The bisection algorithm: \n",
    "# func should be a function for which we are trying to find the solution, in the form f(x)=0\n",
    "# xmin and xmax should enclose the root (the function must change signs from xmin to xmax)\n",
    "# Nmax is the number of evaluations\n",
    "# prec is the required precision\n",
    "def bisection(func, xmin, xmax, Nmax, prec): \n",
    "    \"\"\"Function that implements the bisection algorithm for root finding\"\"\"\n",
    "    n = 0 # number of steps taken\n",
    "    val = 1E99 # the value of the equation, initialize to a large number\n",
    "    root = math.nan # initialize the root to \"not a number\"\n",
    "    while abs(val) > prec and n < Nmax: # loop terminates either when the max number of evals is reached or the precision is reached\n",
    "        # get the equation values at the edges [xmin, xmax], \n",
    "        # and at the bisection point: \n",
    "        val = func((xmin+xmax)/2)\n",
    "        valmax = func(xmax)\n",
    "        valmin = func(xmin)\n",
    "        # figure out in which of the two intervals there's a sign change:\n",
    "        if val * valmax < 0: # sign change between bisection-xmax, set minimum to bisection\n",
    "            xmin = (xmin+xmax)/2\n",
    "        elif val * valmin < 0: # sign change between xmin-bisection, set max to bisection\n",
    "            xmax = (xmin+xmax)/2\n",
    "        n = n + 1\n",
    "    if n > Nmax-1:\n",
    "        print(\"Warning: maximum number of evaluations exceeded:\", Nmax)\n",
    "    root = (xmin+xmax)/2\n",
    "    return root, n"
   ]
  },
  {
   "cell_type": "markdown",
   "id": "59eecd22-f607-4f67-93bf-fbda18790075",
   "metadata": {},
   "source": [
    "The next function needs to be modified to take into account the new form of the equation."
   ]
  },
  {
   "cell_type": "code",
   "execution_count": 10,
   "id": "8ff2782b-1e1a-4e39-80e0-c8ec180eb97d",
   "metadata": {},
   "outputs": [],
   "source": [
    "# This function takes as input kest and yields phi(1) using the Numerov method\n",
    "# It will form the input to our bisection search\n",
    "def phi1(k):\n",
    "    \"\"\"Function that takes as input kest and yields phi(1) using the Numerov method\"\"\"\n",
    "    # Numerov(k2, S, y0, yp0, h, x0, xf) <- function for reference \n",
    "    # you can define separate functions for k2 and S, but we can use the lambda method for brevity:\n",
    "    x,y = Numerov(lambda x: k**2 + 0.25 * 1/(x**2), lambda x: 0, 0, 1, 1E-5, 1E-13, 1)\n",
    "    return y[-1] # we only need the last element -> phi(1)"
   ]
  },
  {
   "cell_type": "markdown",
   "id": "48fd48cc-064b-4591-bd64-7a528dff0c6d",
   "metadata": {},
   "source": [
    "Check: "
   ]
  },
  {
   "cell_type": "code",
   "execution_count": 14,
   "id": "7ecbab4b-30d4-424c-97d1-7d402a0e447f",
   "metadata": {},
   "outputs": [
    {
     "name": "stdout",
     "output_type": "stream",
     "text": [
      "0.0009459925003082181\n"
     ]
    }
   ],
   "source": [
    "print(phi1(2.404826)) # this should be non-zero!"
   ]
  },
  {
   "cell_type": "code",
   "execution_count": 19,
   "id": "991e5e4c-2993-4ceb-94f7-6451d96a315c",
   "metadata": {},
   "outputs": [
    {
     "name": "stdout",
     "output_type": "stream",
     "text": [
      "2.521484375 fractional precision: 0.048510110502797334\n",
      "5.642578125 fractional precision: 0.022191738051527566\n",
      "8.796875 fractional precision: 0.004995754828132688\n",
      "11.9296875 fractional precision: 0.01171632969891785\n"
     ]
    }
   ],
   "source": [
    "Nmax = 1000\n",
    "prec = 1E-5\n",
    "keigen1, niter = bisection(phi1, 1, 3.0, Nmax, prec)\n",
    "print(keigen1, 'fractional precision:', np.abs(2.404826-keigen1)/2.404826)\n",
    "keigen2, niter = bisection(phi1, 4, 6.0, Nmax, prec)\n",
    "print(keigen2, 'fractional precision:', np.abs(5.520078-keigen2)/5.520078)\n",
    "keigen3, niter = bisection(phi1, 8, 9.0, Nmax, prec)\n",
    "print(keigen3, 'fractional precision:', np.abs(8.653728-keigen3)/28.653728)\n",
    "keigen4, niter = bisection(phi1, 10, 12.0, Nmax, prec)\n",
    "print(keigen4, 'fractional precision:', np.abs(11.791534-keigen4)/11.791534)"
   ]
  },
  {
   "cell_type": "code",
   "execution_count": null,
   "id": "1b6a178c-475d-46cc-a5bf-5c80460b612e",
   "metadata": {},
   "outputs": [],
   "source": []
  }
 ],
 "metadata": {
  "kernelspec": {
   "display_name": "Python 3 (ipykernel)",
   "language": "python",
   "name": "python3"
  },
  "language_info": {
   "codemirror_mode": {
    "name": "ipython",
    "version": 3
   },
   "file_extension": ".py",
   "mimetype": "text/x-python",
   "name": "python",
   "nbconvert_exporter": "python",
   "pygments_lexer": "ipython3",
   "version": "3.11.12"
  }
 },
 "nbformat": 4,
 "nbformat_minor": 5
}
